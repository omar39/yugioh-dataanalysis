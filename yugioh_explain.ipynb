{
 "cells": [
  {
   "cell_type": "markdown",
   "metadata": {
    "slideshow": {
     "slide_type": "slide"
    }
   },
   "source": [
    "# Yu-Gi-Oh! Exploration \n",
    "### It is time to duel!"
   ]
  },
  {
   "cell_type": "markdown",
   "metadata": {
    "slideshow": {
     "slide_type": "subslide"
    }
   },
   "source": [
    "#### Yu-Gi-Oh is the most popular trading card game. It contains more than 6000 cards to play with and to make a deck from.\n",
    "#### We will explore the Yu-Gi-Oh! cards and try to understand and discover the relations between card types"
   ]
  },
  {
   "cell_type": "code",
   "execution_count": 1,
   "metadata": {
    "slideshow": {
     "slide_type": "skip"
    }
   },
   "outputs": [],
   "source": [
    "#import required libraries\n",
    "import numpy as np\n",
    "import pandas as pd\n",
    "from matplotlib import pyplot as plt\n",
    "import seaborn as sns\n",
    "\n",
    "import warnings\n",
    "warnings.filterwarnings('ignore')"
   ]
  },
  {
   "cell_type": "markdown",
   "metadata": {
    "slideshow": {
     "slide_type": "skip"
    }
   },
   "source": [
    "### Let's start by importing the dataset and viewing the first few records.."
   ]
  },
  {
   "cell_type": "code",
   "execution_count": 2,
   "metadata": {
    "slideshow": {
     "slide_type": "skip"
    }
   },
   "outputs": [
    {
     "name": "stdout",
     "output_type": "stream",
     "text": [
      "(6534, 7)\n"
     ]
    },
    {
     "data": {
      "text/html": [
       "<div>\n",
       "<style scoped>\n",
       "    .dataframe tbody tr th:only-of-type {\n",
       "        vertical-align: middle;\n",
       "    }\n",
       "\n",
       "    .dataframe tbody tr th {\n",
       "        vertical-align: top;\n",
       "    }\n",
       "\n",
       "    .dataframe thead th {\n",
       "        text-align: right;\n",
       "    }\n",
       "</style>\n",
       "<table border=\"1\" class=\"dataframe\">\n",
       "  <thead>\n",
       "    <tr style=\"text-align: right;\">\n",
       "      <th></th>\n",
       "      <th>Name</th>\n",
       "      <th>Type</th>\n",
       "      <th>Level</th>\n",
       "      <th>Race</th>\n",
       "      <th>Attribute</th>\n",
       "      <th>ATK</th>\n",
       "      <th>DEF</th>\n",
       "    </tr>\n",
       "  </thead>\n",
       "  <tbody>\n",
       "    <tr>\n",
       "      <th>0</th>\n",
       "      <td>Limit Reverse</td>\n",
       "      <td>Trap Card</td>\n",
       "      <td>NaN</td>\n",
       "      <td>Continuous</td>\n",
       "      <td>NaN</td>\n",
       "      <td>NaN</td>\n",
       "      <td>NaN</td>\n",
       "    </tr>\n",
       "    <tr>\n",
       "      <th>1</th>\n",
       "      <td>The 13th Grave</td>\n",
       "      <td>Normal Monster</td>\n",
       "      <td>3.0</td>\n",
       "      <td>Zombie</td>\n",
       "      <td>DARK</td>\n",
       "      <td>1200.0</td>\n",
       "      <td>900.0</td>\n",
       "    </tr>\n",
       "    <tr>\n",
       "      <th>2</th>\n",
       "      <td>Gem-Enhancement</td>\n",
       "      <td>Trap Card</td>\n",
       "      <td>NaN</td>\n",
       "      <td>Normal</td>\n",
       "      <td>NaN</td>\n",
       "      <td>NaN</td>\n",
       "      <td>NaN</td>\n",
       "    </tr>\n",
       "    <tr>\n",
       "      <th>3</th>\n",
       "      <td>Magician's Circle</td>\n",
       "      <td>Trap Card</td>\n",
       "      <td>NaN</td>\n",
       "      <td>Normal</td>\n",
       "      <td>NaN</td>\n",
       "      <td>NaN</td>\n",
       "      <td>NaN</td>\n",
       "    </tr>\n",
       "    <tr>\n",
       "      <th>4</th>\n",
       "      <td>Castle of Dark Illusions</td>\n",
       "      <td>Flip Effect Monster</td>\n",
       "      <td>4.0</td>\n",
       "      <td>Fiend</td>\n",
       "      <td>DARK</td>\n",
       "      <td>920.0</td>\n",
       "      <td>1930.0</td>\n",
       "    </tr>\n",
       "  </tbody>\n",
       "</table>\n",
       "</div>"
      ],
      "text/plain": [
       "                       Name                 Type  Level        Race Attribute  \\\n",
       "0             Limit Reverse            Trap Card    NaN  Continuous       NaN   \n",
       "1            The 13th Grave       Normal Monster    3.0      Zombie      DARK   \n",
       "2           Gem-Enhancement            Trap Card    NaN      Normal       NaN   \n",
       "3         Magician's Circle            Trap Card    NaN      Normal       NaN   \n",
       "4  Castle of Dark Illusions  Flip Effect Monster    4.0       Fiend      DARK   \n",
       "\n",
       "      ATK     DEF  \n",
       "0     NaN     NaN  \n",
       "1  1200.0   900.0  \n",
       "2     NaN     NaN  \n",
       "3     NaN     NaN  \n",
       "4   920.0  1930.0  "
      ]
     },
     "execution_count": 2,
     "metadata": {},
     "output_type": "execute_result"
    }
   ],
   "source": [
    "card_data = pd.read_csv('card_data.csv')\n",
    "print(card_data.shape)\n",
    "card_data.head()"
   ]
  },
  {
   "cell_type": "markdown",
   "metadata": {
    "slideshow": {
     "slide_type": "skip"
    }
   },
   "source": [
    "### In yugioh, we may have the same card having multiple artworks (like the famous \"Dark Magician\" monster card having 4-5 artworks), which may leave us with redundant data in our dataset, so let's check that out."
   ]
  },
  {
   "cell_type": "code",
   "execution_count": 3,
   "metadata": {
    "slideshow": {
     "slide_type": "skip"
    }
   },
   "outputs": [
    {
     "data": {
      "text/plain": [
       "85"
      ]
     },
     "execution_count": 3,
     "metadata": {},
     "output_type": "execute_result"
    }
   ],
   "source": [
    "#check for duplicates in dataset\n",
    "card_data.duplicated().sum()"
   ]
  },
  {
   "cell_type": "markdown",
   "metadata": {
    "slideshow": {
     "slide_type": "skip"
    }
   },
   "source": [
    "### we'll find and drop those redundant records."
   ]
  },
  {
   "cell_type": "code",
   "execution_count": 4,
   "metadata": {
    "slideshow": {
     "slide_type": "skip"
    }
   },
   "outputs": [
    {
     "name": "stdout",
     "output_type": "stream",
     "text": [
      "<class 'pandas.core.frame.DataFrame'>\n",
      "Int64Index: 6449 entries, 0 to 6522\n",
      "Data columns (total 7 columns):\n",
      " #   Column     Non-Null Count  Dtype  \n",
      "---  ------     --------------  -----  \n",
      " 0   Name       6449 non-null   object \n",
      " 1   Type       6449 non-null   object \n",
      " 2   Level      4215 non-null   float64\n",
      " 3   Race       6449 non-null   object \n",
      " 4   Attribute  4215 non-null   object \n",
      " 5   ATK        4215 non-null   float64\n",
      " 6   DEF        4215 non-null   float64\n",
      "dtypes: float64(3), object(4)\n",
      "memory usage: 403.1+ KB\n"
     ]
    }
   ],
   "source": [
    "card_data.drop_duplicates(inplace=True)\n",
    "#let's check the data again to ensure there is no duplicates\n",
    "card_data.info()"
   ]
  },
  {
   "cell_type": "markdown",
   "metadata": {
    "slideshow": {
     "slide_type": "skip"
    }
   },
   "source": [
    "### It appears that there is null values in the `Level`, `Attribute`, `ATK` and `DEF` fields. In yugioh, there are three main card types: Monster, Spell and Trap cards. These attributes are found only in Monster cards. In order to overcome this issue, I will make 3 dataframe, a card type each to ease the usage of data."
   ]
  },
  {
   "cell_type": "code",
   "execution_count": 5,
   "metadata": {
    "slideshow": {
     "slide_type": "skip"
    }
   },
   "outputs": [
    {
     "data": {
      "text/plain": [
       "array(['Trap Card', 'Normal Monster', 'Flip Effect Monster',\n",
       "       'Effect Monster', 'Spell Card', 'Tuner Monster', 'Token',\n",
       "       'Synchro Monster', 'XYZ Monster', 'Pendulum Effect Monster',\n",
       "       'Fusion Monster', 'Normal Tuner Monster', 'Spirit Monster',\n",
       "       'Union Effect Monster', 'Ritual Monster', 'Ritual Effect Monster',\n",
       "       'Gemini Monster', 'Toon Monster', 'Pendulum Normal Monster',\n",
       "       'Pendulum Flip Effect Monster', 'Synchro Tuner Monster',\n",
       "       'XYZ Pendulum Effect Monster', 'Pendulum Tuner Effect Monster',\n",
       "       'Synchro Pendulum Effect Monster'], dtype=object)"
      ]
     },
     "execution_count": 5,
     "metadata": {},
     "output_type": "execute_result"
    }
   ],
   "source": [
    "#display the card types\n",
    "card_data['Type'].unique()"
   ]
  },
  {
   "cell_type": "code",
   "execution_count": 6,
   "metadata": {
    "slideshow": {
     "slide_type": "skip"
    }
   },
   "outputs": [
    {
     "data": {
      "text/html": [
       "<div>\n",
       "<style scoped>\n",
       "    .dataframe tbody tr th:only-of-type {\n",
       "        vertical-align: middle;\n",
       "    }\n",
       "\n",
       "    .dataframe tbody tr th {\n",
       "        vertical-align: top;\n",
       "    }\n",
       "\n",
       "    .dataframe thead th {\n",
       "        text-align: right;\n",
       "    }\n",
       "</style>\n",
       "<table border=\"1\" class=\"dataframe\">\n",
       "  <thead>\n",
       "    <tr style=\"text-align: right;\">\n",
       "      <th></th>\n",
       "      <th>Name</th>\n",
       "      <th>Type</th>\n",
       "      <th>Race</th>\n",
       "    </tr>\n",
       "  </thead>\n",
       "  <tbody>\n",
       "    <tr>\n",
       "      <th>7</th>\n",
       "      <td>Dark Magic Expanded</td>\n",
       "      <td>Spell Card</td>\n",
       "      <td>Quick-Play</td>\n",
       "    </tr>\n",
       "    <tr>\n",
       "      <th>18</th>\n",
       "      <td>Hero Flash!!</td>\n",
       "      <td>Spell Card</td>\n",
       "      <td>Normal</td>\n",
       "    </tr>\n",
       "    <tr>\n",
       "      <th>19</th>\n",
       "      <td>E - Emergency Call</td>\n",
       "      <td>Spell Card</td>\n",
       "      <td>Normal</td>\n",
       "    </tr>\n",
       "    <tr>\n",
       "      <th>21</th>\n",
       "      <td>Ballista of Rampart Smashing</td>\n",
       "      <td>Spell Card</td>\n",
       "      <td>Equip</td>\n",
       "    </tr>\n",
       "    <tr>\n",
       "      <th>24</th>\n",
       "      <td>Mound of the Bound Creator</td>\n",
       "      <td>Spell Card</td>\n",
       "      <td>Field</td>\n",
       "    </tr>\n",
       "  </tbody>\n",
       "</table>\n",
       "</div>"
      ],
      "text/plain": [
       "                            Name        Type        Race\n",
       "7            Dark Magic Expanded  Spell Card  Quick-Play\n",
       "18                  Hero Flash!!  Spell Card      Normal\n",
       "19            E - Emergency Call  Spell Card      Normal\n",
       "21  Ballista of Rampart Smashing  Spell Card       Equip\n",
       "24    Mound of the Bound Creator  Spell Card       Field"
      ]
     },
     "execution_count": 6,
     "metadata": {},
     "output_type": "execute_result"
    }
   ],
   "source": [
    "# filtering spell cards\n",
    "spell_cards = card_data.query(\"Type == 'Spell Card'\")\n",
    "spell_cards = spell_cards.drop(axis=1, labels=['Level', 'ATK', 'DEF', 'Attribute'])\n",
    "spell_cards.head()"
   ]
  },
  {
   "cell_type": "code",
   "execution_count": 7,
   "metadata": {
    "slideshow": {
     "slide_type": "skip"
    }
   },
   "outputs": [
    {
     "data": {
      "text/html": [
       "<div>\n",
       "<style scoped>\n",
       "    .dataframe tbody tr th:only-of-type {\n",
       "        vertical-align: middle;\n",
       "    }\n",
       "\n",
       "    .dataframe tbody tr th {\n",
       "        vertical-align: top;\n",
       "    }\n",
       "\n",
       "    .dataframe thead th {\n",
       "        text-align: right;\n",
       "    }\n",
       "</style>\n",
       "<table border=\"1\" class=\"dataframe\">\n",
       "  <thead>\n",
       "    <tr style=\"text-align: right;\">\n",
       "      <th></th>\n",
       "      <th>Name</th>\n",
       "      <th>Type</th>\n",
       "      <th>Race</th>\n",
       "    </tr>\n",
       "  </thead>\n",
       "  <tbody>\n",
       "    <tr>\n",
       "      <th>0</th>\n",
       "      <td>Limit Reverse</td>\n",
       "      <td>Trap Card</td>\n",
       "      <td>Continuous</td>\n",
       "    </tr>\n",
       "    <tr>\n",
       "      <th>2</th>\n",
       "      <td>Gem-Enhancement</td>\n",
       "      <td>Trap Card</td>\n",
       "      <td>Normal</td>\n",
       "    </tr>\n",
       "    <tr>\n",
       "      <th>3</th>\n",
       "      <td>Magician's Circle</td>\n",
       "      <td>Trap Card</td>\n",
       "      <td>Normal</td>\n",
       "    </tr>\n",
       "    <tr>\n",
       "      <th>5</th>\n",
       "      <td>Cipher Spectrum</td>\n",
       "      <td>Trap Card</td>\n",
       "      <td>Normal</td>\n",
       "    </tr>\n",
       "    <tr>\n",
       "      <th>10</th>\n",
       "      <td>Skull Dice</td>\n",
       "      <td>Trap Card</td>\n",
       "      <td>Normal</td>\n",
       "    </tr>\n",
       "  </tbody>\n",
       "</table>\n",
       "</div>"
      ],
      "text/plain": [
       "                 Name       Type        Race\n",
       "0       Limit Reverse  Trap Card  Continuous\n",
       "2     Gem-Enhancement  Trap Card      Normal\n",
       "3   Magician's Circle  Trap Card      Normal\n",
       "5     Cipher Spectrum  Trap Card      Normal\n",
       "10         Skull Dice  Trap Card      Normal"
      ]
     },
     "execution_count": 7,
     "metadata": {},
     "output_type": "execute_result"
    }
   ],
   "source": [
    "# filtering trap cards\n",
    "trap_cards = card_data.query(\"Type == 'Trap Card'\")\n",
    "trap_cards = trap_cards.drop(axis=1, labels=['Level', 'ATK', 'DEF', 'Attribute'])\n",
    "trap_cards.head()"
   ]
  },
  {
   "cell_type": "code",
   "execution_count": 8,
   "metadata": {
    "slideshow": {
     "slide_type": "skip"
    }
   },
   "outputs": [
    {
     "data": {
      "text/html": [
       "<div>\n",
       "<style scoped>\n",
       "    .dataframe tbody tr th:only-of-type {\n",
       "        vertical-align: middle;\n",
       "    }\n",
       "\n",
       "    .dataframe tbody tr th {\n",
       "        vertical-align: top;\n",
       "    }\n",
       "\n",
       "    .dataframe thead th {\n",
       "        text-align: right;\n",
       "    }\n",
       "</style>\n",
       "<table border=\"1\" class=\"dataframe\">\n",
       "  <thead>\n",
       "    <tr style=\"text-align: right;\">\n",
       "      <th></th>\n",
       "      <th>Name</th>\n",
       "      <th>Type</th>\n",
       "      <th>Level</th>\n",
       "      <th>Race</th>\n",
       "      <th>Attribute</th>\n",
       "      <th>ATK</th>\n",
       "      <th>DEF</th>\n",
       "    </tr>\n",
       "  </thead>\n",
       "  <tbody>\n",
       "    <tr>\n",
       "      <th>1</th>\n",
       "      <td>The 13th Grave</td>\n",
       "      <td>Normal Monster</td>\n",
       "      <td>3.0</td>\n",
       "      <td>Zombie</td>\n",
       "      <td>DARK</td>\n",
       "      <td>1200.0</td>\n",
       "      <td>900.0</td>\n",
       "    </tr>\n",
       "    <tr>\n",
       "      <th>4</th>\n",
       "      <td>Castle of Dark Illusions</td>\n",
       "      <td>Flip Effect Monster</td>\n",
       "      <td>4.0</td>\n",
       "      <td>Fiend</td>\n",
       "      <td>DARK</td>\n",
       "      <td>920.0</td>\n",
       "      <td>1930.0</td>\n",
       "    </tr>\n",
       "    <tr>\n",
       "      <th>6</th>\n",
       "      <td>Lava Golem</td>\n",
       "      <td>Effect Monster</td>\n",
       "      <td>8.0</td>\n",
       "      <td>Fiend</td>\n",
       "      <td>FIRE</td>\n",
       "      <td>3000.0</td>\n",
       "      <td>2500.0</td>\n",
       "    </tr>\n",
       "    <tr>\n",
       "      <th>8</th>\n",
       "      <td>Seismic Crasher</td>\n",
       "      <td>Effect Monster</td>\n",
       "      <td>3.0</td>\n",
       "      <td>Rock</td>\n",
       "      <td>EARTH</td>\n",
       "      <td>1400.0</td>\n",
       "      <td>300.0</td>\n",
       "    </tr>\n",
       "    <tr>\n",
       "      <th>9</th>\n",
       "      <td>Laval Lancelord</td>\n",
       "      <td>Effect Monster</td>\n",
       "      <td>6.0</td>\n",
       "      <td>Warrior</td>\n",
       "      <td>FIRE</td>\n",
       "      <td>2100.0</td>\n",
       "      <td>200.0</td>\n",
       "    </tr>\n",
       "  </tbody>\n",
       "</table>\n",
       "</div>"
      ],
      "text/plain": [
       "                       Name                 Type  Level     Race Attribute  \\\n",
       "1            The 13th Grave       Normal Monster    3.0   Zombie      DARK   \n",
       "4  Castle of Dark Illusions  Flip Effect Monster    4.0    Fiend      DARK   \n",
       "6                Lava Golem       Effect Monster    8.0    Fiend      FIRE   \n",
       "8           Seismic Crasher       Effect Monster    3.0     Rock     EARTH   \n",
       "9           Laval Lancelord       Effect Monster    6.0  Warrior      FIRE   \n",
       "\n",
       "      ATK     DEF  \n",
       "1  1200.0   900.0  \n",
       "4   920.0  1930.0  \n",
       "6  3000.0  2500.0  \n",
       "8  1400.0   300.0  \n",
       "9  2100.0   200.0  "
      ]
     },
     "execution_count": 8,
     "metadata": {},
     "output_type": "execute_result"
    }
   ],
   "source": [
    "# filtering monsters\n",
    "monsters = card_data.query(\"Type != 'Spell Card' & Type != 'Trap Card' & Type != 'Token'\")\n",
    "monsters.head()"
   ]
  },
  {
   "cell_type": "markdown",
   "metadata": {
    "slideshow": {
     "slide_type": "skip"
    }
   },
   "source": [
    "### To finish off the data cleaning process, I will fix some problems in the monsters dataframe of the `Level`, `ATK` and `DEF`."
   ]
  },
  {
   "cell_type": "code",
   "execution_count": 9,
   "metadata": {
    "slideshow": {
     "slide_type": "skip"
    }
   },
   "outputs": [
    {
     "name": "stdout",
     "output_type": "stream",
     "text": [
      "<class 'pandas.core.frame.DataFrame'>\n",
      "Int64Index: 4215 entries, 1 to 6522\n",
      "Data columns (total 7 columns):\n",
      " #   Column     Non-Null Count  Dtype  \n",
      "---  ------     --------------  -----  \n",
      " 0   Name       4215 non-null   object \n",
      " 1   Type       4215 non-null   object \n",
      " 2   Level      4215 non-null   float64\n",
      " 3   Race       4215 non-null   object \n",
      " 4   Attribute  4215 non-null   object \n",
      " 5   ATK        4215 non-null   float64\n",
      " 6   DEF        4215 non-null   float64\n",
      "dtypes: float64(3), object(4)\n",
      "memory usage: 263.4+ KB\n"
     ]
    }
   ],
   "source": [
    "monsters.dropna(inplace=True)\n",
    "monsters.info()"
   ]
  },
  {
   "cell_type": "markdown",
   "metadata": {
    "slideshow": {
     "slide_type": "skip"
    }
   },
   "source": [
    "#### I will change the numeric attributes to integers"
   ]
  },
  {
   "cell_type": "code",
   "execution_count": 10,
   "metadata": {
    "slideshow": {
     "slide_type": "skip"
    }
   },
   "outputs": [
    {
     "data": {
      "text/html": [
       "<div>\n",
       "<style scoped>\n",
       "    .dataframe tbody tr th:only-of-type {\n",
       "        vertical-align: middle;\n",
       "    }\n",
       "\n",
       "    .dataframe tbody tr th {\n",
       "        vertical-align: top;\n",
       "    }\n",
       "\n",
       "    .dataframe thead th {\n",
       "        text-align: right;\n",
       "    }\n",
       "</style>\n",
       "<table border=\"1\" class=\"dataframe\">\n",
       "  <thead>\n",
       "    <tr style=\"text-align: right;\">\n",
       "      <th></th>\n",
       "      <th>Name</th>\n",
       "      <th>Type</th>\n",
       "      <th>Level</th>\n",
       "      <th>Race</th>\n",
       "      <th>Attribute</th>\n",
       "      <th>ATK</th>\n",
       "      <th>DEF</th>\n",
       "    </tr>\n",
       "  </thead>\n",
       "  <tbody>\n",
       "    <tr>\n",
       "      <th>1</th>\n",
       "      <td>The 13th Grave</td>\n",
       "      <td>Normal Monster</td>\n",
       "      <td>3</td>\n",
       "      <td>Zombie</td>\n",
       "      <td>DARK</td>\n",
       "      <td>1200</td>\n",
       "      <td>900</td>\n",
       "    </tr>\n",
       "    <tr>\n",
       "      <th>4</th>\n",
       "      <td>Castle of Dark Illusions</td>\n",
       "      <td>Flip Effect Monster</td>\n",
       "      <td>4</td>\n",
       "      <td>Fiend</td>\n",
       "      <td>DARK</td>\n",
       "      <td>920</td>\n",
       "      <td>1930</td>\n",
       "    </tr>\n",
       "    <tr>\n",
       "      <th>6</th>\n",
       "      <td>Lava Golem</td>\n",
       "      <td>Effect Monster</td>\n",
       "      <td>8</td>\n",
       "      <td>Fiend</td>\n",
       "      <td>FIRE</td>\n",
       "      <td>3000</td>\n",
       "      <td>2500</td>\n",
       "    </tr>\n",
       "    <tr>\n",
       "      <th>8</th>\n",
       "      <td>Seismic Crasher</td>\n",
       "      <td>Effect Monster</td>\n",
       "      <td>3</td>\n",
       "      <td>Rock</td>\n",
       "      <td>EARTH</td>\n",
       "      <td>1400</td>\n",
       "      <td>300</td>\n",
       "    </tr>\n",
       "    <tr>\n",
       "      <th>9</th>\n",
       "      <td>Laval Lancelord</td>\n",
       "      <td>Effect Monster</td>\n",
       "      <td>6</td>\n",
       "      <td>Warrior</td>\n",
       "      <td>FIRE</td>\n",
       "      <td>2100</td>\n",
       "      <td>200</td>\n",
       "    </tr>\n",
       "  </tbody>\n",
       "</table>\n",
       "</div>"
      ],
      "text/plain": [
       "                       Name                 Type  Level     Race Attribute  \\\n",
       "1            The 13th Grave       Normal Monster      3   Zombie      DARK   \n",
       "4  Castle of Dark Illusions  Flip Effect Monster      4    Fiend      DARK   \n",
       "6                Lava Golem       Effect Monster      8    Fiend      FIRE   \n",
       "8           Seismic Crasher       Effect Monster      3     Rock     EARTH   \n",
       "9           Laval Lancelord       Effect Monster      6  Warrior      FIRE   \n",
       "\n",
       "    ATK   DEF  \n",
       "1  1200   900  \n",
       "4   920  1930  \n",
       "6  3000  2500  \n",
       "8  1400   300  \n",
       "9  2100   200  "
      ]
     },
     "execution_count": 10,
     "metadata": {},
     "output_type": "execute_result"
    }
   ],
   "source": [
    "# cast all numeric variables to int32\n",
    "monsters['Level'] = monsters['Level'].astype({'Level' : 'int32'})\n",
    "monsters['ATK'] = monsters['ATK'].astype({'ATK' : 'int32'})\n",
    "monsters['DEF'] = monsters['DEF'].astype({'DEF' : 'int32'})\n",
    "\n",
    "monsters.head()"
   ]
  },
  {
   "cell_type": "markdown",
   "metadata": {
    "slideshow": {
     "slide_type": "slide"
    }
   },
   "source": [
    "## Data Exploration"
   ]
  },
  {
   "cell_type": "code",
   "execution_count": 11,
   "metadata": {
    "slideshow": {
     "slide_type": "slide"
    }
   },
   "outputs": [
    {
     "data": {
      "image/png": "[encoded data removed]",
      "text/plain": [
       "<Figure size 432x288 with 1 Axes>"
      ]
     },
     "metadata": {},
     "output_type": "display_data"
    },
    {
     "data": {
      "text/plain": [
       "<Figure size 576x576 with 0 Axes>"
      ]
     },
     "metadata": {},
     "output_type": "display_data"
    }
   ],
   "source": [
    "card_nums = [monsters.shape[0], spell_cards.shape[0], trap_cards.shape[0]]\n",
    "labels = ['Monsters', 'Spells', 'Traps']\n",
    "\n",
    "# I will add explode to make the `Monsters` part stands out\n",
    "explode = (0.1, 0, 0)\n",
    "\n",
    "fig, ax = plt.subplots();\n",
    "plt.title(\"Percentage of cards for each card type\")\n",
    "fig = plt.figure(figsize=(8, 8));\n",
    "ax.pie(card_nums, labels=labels, autopct='%1.1f%%',\n",
    "        shadow=True, startangle=90, explode=explode, radius=1.2);"
   ]
  },
  {
   "cell_type": "markdown",
   "metadata": {
    "slideshow": {
     "slide_type": "slide"
    }
   },
   "source": [
    "### First, let's investigate monsters."
   ]
  },
  {
   "cell_type": "code",
   "execution_count": 12,
   "metadata": {
    "slideshow": {
     "slide_type": "slide"
    }
   },
   "outputs": [
    {
     "data": {
      "image/png": "[encoded data removed]",
      "text/plain": [
       "<Figure size 576x360 with 1 Axes>"
      ]
     },
     "metadata": {
      "needs_background": "light"
     },
     "output_type": "display_data"
    }
   ],
   "source": [
    "# I will plot the ATK  and DEF\n",
    "plt.figure(figsize=(8, 5))\n",
    "plt.hist(monsters['ATK'], bins=50, alpha=0.5)\n",
    "\n",
    "# since there are monsters with negative defense, we will exclude them first\n",
    "\n",
    "plt.hist(monsters['DEF'], bins=50, alpha=0.5);\n",
    "\n",
    "plt.legend(['Attack', 'Defense'])\n",
    "plt.title(\"The Distribution of Attack and Defense point across all monsters in the dataset\");\n"
   ]
  },
  {
   "cell_type": "markdown",
   "metadata": {
    "slideshow": {
     "slide_type": "subslide"
    }
   },
   "source": [
    "### Peaks for both attack and defense points are at (0, 1800 and 2200) points with a slight peak at 4000 points."
   ]
  },
  {
   "cell_type": "markdown",
   "metadata": {
    "slideshow": {
     "slide_type": "slide"
    }
   },
   "source": [
    "### Let's find the relation between the attack and defense points."
   ]
  },
  {
   "cell_type": "code",
   "execution_count": 13,
   "metadata": {
    "slideshow": {
     "slide_type": "slide"
    }
   },
   "outputs": [
    {
     "data": {
      "image/png": "[encoded data removed]",
      "text/plain": [
       "<Figure size 576x360 with 2 Axes>"
      ]
     },
     "metadata": {
      "needs_background": "light"
     },
     "output_type": "display_data"
    }
   ],
   "source": [
    "# prepare to plot atk and def on a 2d histogram\n",
    "plt.figure(figsize=(8, 5))\n",
    "plt.title(\"Relation between attack points and defense points of monsters\")\n",
    "bins = np.arange(0, 4000+500, 500)\n",
    "plt.hist2d(data=monsters, x='ATK', y='DEF', alpha=.2, cmin=20, bins=[bins, bins])\n",
    "plt.colorbar(label = 'count')\n",
    "plt.xlim(right=4000)\n",
    "plt.ylim(top=4000);\n",
    "plt.xlabel(\"Attack points\")\n",
    "plt.ylabel(\"Defense points\");\n"
   ]
  },
  {
   "cell_type": "markdown",
   "metadata": {
    "slideshow": {
     "slide_type": "subslide"
    }
   },
   "source": [
    "### The trend shows that monsters have nearly equal attack and defense points."
   ]
  },
  {
   "cell_type": "markdown",
   "metadata": {
    "slideshow": {
     "slide_type": "slide"
    }
   },
   "source": [
    "### Next, let's take a look at monster levels.."
   ]
  },
  {
   "cell_type": "code",
   "execution_count": 14,
   "metadata": {
    "slideshow": {
     "slide_type": "slide"
    }
   },
   "outputs": [
    {
     "data": {
      "image/png": "[encoded data removed]",
      "text/plain": [
       "<Figure size 576x360 with 1 Axes>"
      ]
     },
     "metadata": {
      "needs_background": "light"
     },
     "output_type": "display_data"
    }
   ],
   "source": [
    "# I will plot their level distribution\n",
    "plt.figure(figsize=(8, 5))\n",
    "plt.title(\"Distribution of monsters levels\")\n",
    "sns.countplot(data=monsters, x='Level', color=sns.color_palette()[0]);\n"
   ]
  },
  {
   "cell_type": "markdown",
   "metadata": {
    "slideshow": {
     "slide_type": "subslide"
    }
   },
   "source": [
    "### Monsters level ranges from 1-12. It seems that the most common level is 4 and their number gradually decease until it reaches level 12. What does the level can do with attack and defense? Let's find out."
   ]
  },
  {
   "cell_type": "code",
   "execution_count": 15,
   "metadata": {
    "slideshow": {
     "slide_type": "slide"
    }
   },
   "outputs": [
    {
     "data": {
      "image/png": "[encoded data removed]",
      "text/plain": [
       "<Figure size 1080x360 with 2 Axes>"
      ]
     },
     "metadata": {
      "needs_background": "light"
     },
     "output_type": "display_data"
    }
   ],
   "source": [
    "# plot atk and def against level..\n",
    "\n",
    "plt.figure(figsize=(15, 5))\n",
    "plt.subplot(1, 2, 1)\n",
    "plt.title(\"Relation between monsters' attack points and levels\")\n",
    "sns.pointplot(data=monsters, x='Level', y='ATK', join=False)\n",
    "plt.ylabel(\"Attack points\")\n",
    "\n",
    "plt.subplot(1, 2, 2)\n",
    "plt.title(\"Relation between monsters' defense points and levels\")\n",
    "sns.pointplot(data=monsters, x='Level', y='DEF', join=False);\n",
    "plt.ylabel(\"Defense points\");\n"
   ]
  },
  {
   "cell_type": "markdown",
   "metadata": {
    "slideshow": {
     "slide_type": "subslide"
    }
   },
   "source": [
    "### The mean attack and defense points increase with the increase of the level with high variabiity in both attack and defense points with last 4 levels."
   ]
  },
  {
   "cell_type": "markdown",
   "metadata": {
    "slideshow": {
     "slide_type": "slide"
    }
   },
   "source": [
    "## Does the Monster type do anything with attack and defense?"
   ]
  },
  {
   "cell_type": "markdown",
   "metadata": {
    "slideshow": {
     "slide_type": "subslide"
    }
   },
   "source": [
    "### First, we'll take a look at the monster races and the most common ones."
   ]
  },
  {
   "cell_type": "code",
   "execution_count": 16,
   "metadata": {
    "slideshow": {
     "slide_type": "slide"
    }
   },
   "outputs": [
    {
     "data": {
      "image/png": "[encoded data removed]",
      "text/plain": [
       "<Figure size 360x576 with 1 Axes>"
      ]
     },
     "metadata": {
      "needs_background": "light"
     },
     "output_type": "display_data"
    }
   ],
   "source": [
    "# plot the monster races with most common ones\n",
    "plt.figure(figsize=(5, 8))\n",
    "plt.title(\"Monsters Races\")\n",
    "ordered_race = monsters.groupby('Race')['Race'].count().sort_values(ascending=False).index\n",
    "sns.countplot(data=monsters, y='Race', order=ordered_race,  color=sns.color_palette()[0]);"
   ]
  },
  {
   "cell_type": "markdown",
   "metadata": {
    "slideshow": {
     "slide_type": "slide"
    }
   },
   "source": [
    "### Now let's see the relation between the most common 7 monster races and their attack and defense."
   ]
  },
  {
   "cell_type": "code",
   "execution_count": 17,
   "metadata": {
    "slideshow": {
     "slide_type": "slide"
    }
   },
   "outputs": [
    {
     "data": {
      "image/png": "[encoded data removed]",
      "text/plain": [
       "<Figure size 1080x360 with 2 Axes>"
      ]
     },
     "metadata": {
      "needs_background": "light"
     },
     "output_type": "display_data"
    }
   ],
   "source": [
    "# plot the distributions of each monster races\n",
    "\n",
    "plt.figure(figsize=(15, 5))\n",
    "plt.subplot(1, 2, 1)\n",
    "plt.title(\"Distribution of attack points of each monster race\")\n",
    "sns.boxplot(data=monsters, x='Race', y='ATK', order=ordered_race[:7], color=sns.color_palette()[0])\n",
    "\n",
    "plt.subplot(1, 2, 2)\n",
    "plt.title(\"Distribution of defense points of each monster race\")\n",
    "sns.boxplot(data=monsters, x='Race', y='DEF', order=ordered_race[:7], color=sns.color_palette()[1]);\n"
   ]
  },
  {
   "cell_type": "markdown",
   "metadata": {
    "slideshow": {
     "slide_type": "subslide"
    }
   },
   "source": [
    "### Dragon-Type monsters have the highest average attack and defense, while Fiend and Fairy-Type monsters have a larger variaty in attack and defense points."
   ]
  },
  {
   "cell_type": "markdown",
   "metadata": {
    "slideshow": {
     "slide_type": "slide"
    }
   },
   "source": [
    "### Finally, We will investigate the monster types and attributes."
   ]
  },
  {
   "cell_type": "code",
   "execution_count": 18,
   "metadata": {
    "slideshow": {
     "slide_type": "skip"
    }
   },
   "outputs": [],
   "source": [
    "# format their names to be shorter\n",
    "monsters['Type'] = monsters['Type'].apply(lambda x:x.replace(\" Monster\", ''))"
   ]
  },
  {
   "cell_type": "code",
   "execution_count": 19,
   "metadata": {
    "slideshow": {
     "slide_type": "skip"
    }
   },
   "outputs": [],
   "source": [
    "# I re-categorized monsters to ease of use.\n",
    "m_types = []\n",
    "for ty in monsters['Type']:\n",
    "    if ty.find('Pendulum') != -1:\n",
    "        m_types.append('Pendulum')\n",
    "    elif ty.find('XYZ') != -1:\n",
    "        m_types.append('XYZ')\n",
    "    elif ty.find('Synchro') != -1:\n",
    "        m_types.append('Synchro')\n",
    "    elif ty.find('Fusion') != -1:\n",
    "        m_types.append('Fusion')\n",
    "    elif ty.find('XYZ') != -1:\n",
    "        m_types.append('XYZ')\n",
    "    elif ty.find('Ritual') != -1:\n",
    "        m_types.append('Ritual')\n",
    "    elif ty.find('Tuner') != -1:\n",
    "        m_types.append('Tuner')\n",
    "    elif ty.find('Effect') != -1:\n",
    "        m_types.append('Effect')\n",
    "    else: m_types.append(ty)\n",
    "\n",
    "monsters['Type'] = m_types"
   ]
  },
  {
   "cell_type": "code",
   "execution_count": 20,
   "metadata": {
    "slideshow": {
     "slide_type": "slide"
    }
   },
   "outputs": [
    {
     "data": {
      "image/png": "[encoded data removed]",
      "text/plain": [
       "<Figure size 576x360 with 1 Axes>"
      ]
     },
     "metadata": {
      "needs_background": "light"
     },
     "output_type": "display_data"
    }
   ],
   "source": [
    "# sort with most common monster types\n",
    "plt.figure(figsize=(8, 5))\n",
    "plt.title(\"Monster Types\")\n",
    "ordered_mtypes = monsters.groupby('Type')['Type'].count().sort_values(ascending=False)\n",
    "sns.countplot(data=monsters, y='Type', order=ordered_mtypes.index, color=sns.color_palette()[0]);"
   ]
  },
  {
   "cell_type": "markdown",
   "metadata": {
    "slideshow": {
     "slide_type": "subslide"
    }
   },
   "source": [
    "### I will continue with the top 6 types to explore better further."
   ]
  },
  {
   "cell_type": "markdown",
   "metadata": {
    "slideshow": {
     "slide_type": "slide"
    }
   },
   "source": [
    "### We'll take a look at the monster attributes."
   ]
  },
  {
   "cell_type": "code",
   "execution_count": 21,
   "metadata": {
    "slideshow": {
     "slide_type": "slide"
    }
   },
   "outputs": [
    {
     "data": {
      "image/png": "[encoded data removed]",
      "text/plain": [
       "<Figure size 576x360 with 1 Axes>"
      ]
     },
     "metadata": {
      "needs_background": "light"
     },
     "output_type": "display_data"
    }
   ],
   "source": [
    "# plot the monsters attributes and their frequency\n",
    "plt.figure(figsize=(8, 5))\n",
    "plt.title(\"Monsters Attributes\")\n",
    "ordered_attrs = monsters.groupby('Attribute')['Attribute'].count().sort_values(ascending=False)\n",
    "ax = sns.countplot(data=monsters, x='Attribute', order=ordered_attrs.index, color=sns.color_palette()[0])\n",
    "\n",
    "for p, label in zip(ax.patches, ordered_attrs):\n",
    "    ax.annotate(label, (p.get_x()+.25, p.get_height()+.15))\n",
    "\n",
    "plt.ylabel(\"\")\n",
    "plt.yticks([], []);\n"
   ]
  },
  {
   "cell_type": "markdown",
   "metadata": {
    "slideshow": {
     "slide_type": "slide"
    }
   },
   "source": [
    "### Let's see the attack points in every attribute and the top 6 common monster card type."
   ]
  },
  {
   "cell_type": "code",
   "execution_count": 22,
   "metadata": {
    "slideshow": {
     "slide_type": "skip"
    }
   },
   "outputs": [
    {
     "data": {
      "image/png": "[encoded data removed]",
      "text/plain": [
       "<Figure size 864x576 with 6 Axes>"
      ]
     },
     "metadata": {
      "needs_background": "light"
     },
     "output_type": "display_data"
    }
   ],
   "source": [
    "palette = sns.color_palette()\n",
    "\n",
    "# color the bars based on the card colors\n",
    "d = {'color' : ['#b75b37', '#d8ad41', '#d8ad41', '#8c00a2', '#b2b1ba', '#43484e']}\n",
    "\n",
    "g = sns.FacetGrid(data=monsters, \n",
    "                    col='Type', \n",
    "                    col_order=ordered_mtypes.index[:6], \n",
    "                    hue='Type', \n",
    "                    hue_order=ordered_mtypes.index[:6], \n",
    "                    hue_kws=d, \n",
    "                    col_wrap=3, size=4)\n",
    "\n",
    "g.map(sns.barplot, 'Attribute', 'ATK')\n",
    "g.set_titles(col_template=\"{col_name}\");\n"
   ]
  },
  {
   "cell_type": "code",
   "execution_count": 48,
   "metadata": {
    "slideshow": {
     "slide_type": "slide"
    }
   },
   "outputs": [
    {
     "data": {
      "text/plain": [
       "<seaborn.axisgrid.FacetGrid at 0x7fa6b0f8b3d0>"
      ]
     },
     "execution_count": 48,
     "metadata": {},
     "output_type": "execute_result"
    },
    {
     "data": {
      "image/png": "[encoded data removed]",
      "text/plain": [
       "<Figure size 1150.62x720 with 6 Axes>"
      ]
     },
     "metadata": {
      "needs_background": "light"
     },
     "output_type": "display_data"
    }
   ],
   "source": [
    "# melt the two categorical variables I will use to make multivariate boxplot\n",
    "# I used the iconic colors of the Attribute logos for better appearance\n",
    "\n",
    "df = pd.melt(monsters, id_vars=['Attribute', 'Type'])\n",
    "df = df[ (df['variable'] == 'ATK') | (df['variable'] == 'DEF') ]\n",
    "d = ['#5b5f43', '#9f12a9', '#e8cc79', '#5ab4f0', '#00d233', '#f10000']\n",
    "sns.set_palette(d)\n",
    "\n",
    "g = sns.factorplot(data=df, x='variable', y='value', \n",
    "               hue='Attribute', col='Type', \n",
    "               kind='box', legend=True, \n",
    "               col_order=ordered_mtypes.index[:6], \n",
    "               hue_order=ordered_attrs.index[:-1],\n",
    "               col_wrap=3);\n",
    "\n",
    "g.set_titles('{col_name}');\n",
    "g.set_xlabels('Points')"
   ]
  },
  {
   "cell_type": "markdown",
   "metadata": {
    "slideshow": {
     "slide_type": "subslide"
    }
   },
   "source": [
    "### Fusion, Synchro and XYZ monsters have higher attacks than the other types, while Tuner monsters have the lowest."
   ]
  },
  {
   "cell_type": "markdown",
   "metadata": {
    "slideshow": {
     "slide_type": "slide"
    }
   },
   "source": [
    "## Second, let's investigate the Spell and Trap cards.."
   ]
  },
  {
   "cell_type": "code",
   "execution_count": 24,
   "metadata": {
    "slideshow": {
     "slide_type": "slide"
    }
   },
   "outputs": [
    {
     "data": {
      "image/png": "[encoded data removed]",
      "text/plain": [
       "<Figure size 936x360 with 2 Axes>"
      ]
     },
     "metadata": {
      "needs_background": "light"
     },
     "output_type": "display_data"
    }
   ],
   "source": [
    "plt.figure(figsize=(13, 5))\n",
    "plt.subplot(1, 2, 1)\n",
    "plt.title(\"Spell cards Types\")\n",
    "ordered_srace = spell_cards.groupby('Race').count()['Name'].sort_values(ascending=False)\n",
    "ax = sns.countplot(data=spell_cards, x='Race', order=ordered_srace.index, color=palette[0])\n",
    "for p, label in zip(ax.patches, ordered_srace):\n",
    "    ax.annotate(label, (p.get_x()+.25, p.get_height()))\n",
    "plt.ylabel(\"\")\n",
    "plt.yticks([], [])\n",
    "\n",
    "plt.subplot(1, 2, 2)\n",
    "plt.title(\"Trap cards Types\")\n",
    "ordered_trace = trap_cards.groupby('Race').count()['Name'].sort_values(ascending=False)\n",
    "ax = sns.countplot(data=trap_cards, x='Race', order=ordered_trace.index, color=palette[0])\n",
    "for p, label in zip(ax.patches, ordered_trace):\n",
    "    ax.annotate(label, (p.get_x()+.3, p.get_height()))\n",
    "plt.ylabel(\"\")\n",
    "plt.yticks([], []);\n"
   ]
  },
  {
   "cell_type": "markdown",
   "metadata": {
    "slideshow": {
     "slide_type": "slide"
    }
   },
   "source": [
    "# Conclusion"
   ]
  },
  {
   "cell_type": "markdown",
   "metadata": {
    "slideshow": {
     "slide_type": "subslide"
    }
   },
   "source": [
    "#### The data gave us a brief introduction for the game and their cards. Monsters are the majority of cards, spell and traps cards comes next.\n",
    "#### Monsters attack and defense points of a monster are pretty near to each other while defense points tends to decrease with a monster with higher attack points and vice versa."
   ]
  },
  {
   "cell_type": "markdown",
   "metadata": {
    "slideshow": {
     "slide_type": "slide"
    }
   },
   "source": [
    "# Limitations"
   ]
  },
  {
   "cell_type": "markdown",
   "metadata": {
    "slideshow": {
     "slide_type": "subslide"
    }
   },
   "source": [
    "#### Unfortunately, I couldn't introduce game ruling as the dataset lacks card effects which would have made a drastic change in our analysis and finding more complex relations and game strategies."
   ]
  }
 ],
 "metadata": {
  "celltoolbar": "Slideshow",
  "interpreter": {
   "hash": "e982957a59b672086d3bc97403b924df14de5379c777bbe3d2e1c5c0897328c1"
  },
  "kernelspec": {
   "display_name": "Python 3",
   "language": "python",
   "name": "python3"
  },
  "language_info": {
   "codemirror_mode": {
    "name": "ipython",
    "version": 3
   },
   "file_extension": ".py",
   "mimetype": "text/x-python",
   "name": "python",
   "nbconvert_exporter": "python",
   "pygments_lexer": "ipython3",
   "version": "3.9.1"
  }
 },
 "nbformat": 4,
 "nbformat_minor": 2
}
